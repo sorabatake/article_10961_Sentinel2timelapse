{
 "cells": [
  {
   "cell_type": "markdown",
   "metadata": {
    "colab_type": "text",
    "id": "sb1jcfkRAqO_"
   },
   "source": [
    "# Sentinel-2の観測画像をpythonのjupyter noteboook(lab)のプラットフォームに取得し，火災検知に特化した衛星画像の５日間毎の時系列変化（Timelapse）のGifアニメーションを作成\n"
   ]
  },
  {
   "cell_type": "markdown",
   "metadata": {},
   "source": [
    "目的：pythonのjupyter labにて，希望する地域を含むのSentinel-2の観測画像ファイルを自動でダウンロードする．\n",
    "その画像より赤外波長領域の画像作成し，その画像より関心域の時系列のGIFアニメーションを作成する．\n"
   ]
  },
  {
   "cell_type": "markdown",
   "metadata": {},
   "source": [
    "## 関連するモジュールのインストールおよびインポート"
   ]
  },
  {
   "cell_type": "markdown",
   "metadata": {},
   "source": [
    "SentinelのAPIを含め，必要なモジュールを総合開発環境(python）にインストールする．"
   ]
  },
  {
   "cell_type": "code",
   "execution_count": null,
   "metadata": {
    "colab": {},
    "colab_type": "code",
    "id": "M9Ext-l1Ahw3"
   },
   "outputs": [],
   "source": [
    "!pip install sentinelsat\n",
    "!pip install rasterio\n",
    "!pip install folium\n",
    "!apt install gdal-bin python-gdal python3-gdal \n",
    "!apt install python3-rtree \n",
    "!pip install git+git://github.com/geopandas/geopandas.git\n",
    "!pip install descartes \n"
   ]
  },
  {
   "cell_type": "markdown",
   "metadata": {},
   "source": [
    "geopandasを使うための関連モジュールもインストールする．"
   ]
  },
  {
   "cell_type": "code",
   "execution_count": null,
   "metadata": {},
   "outputs": [],
   "source": [
    "!pip install shapely\n",
    "!pip install fiona\n",
    "!pip install six\n",
    "!pip install pyproj\n",
    "!pip install descartes\n",
    "!pip install geopandas"
   ]
  },
  {
   "cell_type": "markdown",
   "metadata": {},
   "source": [
    "処理・解析に必要なパッケージをインポートする．"
   ]
  },
  {
   "cell_type": "code",
   "execution_count": 3,
   "metadata": {
    "colab": {},
    "colab_type": "code",
    "id": "8_KhTV-VBWnb"
   },
   "outputs": [],
   "source": [
    "import folium\n",
    "import os\n",
    "import datetime\n",
    "\n",
    "from sentinelsat import SentinelAPI, read_geojson, geojson_to_wkt \n",
    "import geopandas as gpd\n",
    "import pandas as pd\n",
    "import numpy as np\n",
    "import matplotlib.pyplot as plt\n",
    "\n",
    "from shapely.geometry import MultiPolygon, Polygon\n",
    "import rasterio as rio\n",
    "from rasterio.plot import show\n",
    "import rasterio.mask\n",
    "import fiona\n",
    "\n",
    "import zipfile\n",
    "import shutil\n",
    "import glob\n",
    "\n",
    "from osgeo import gdal\n",
    "\n",
    "from PIL import Image, ImageDraw, ImageFont"
   ]
  },
  {
   "cell_type": "markdown",
   "metadata": {},
   "source": [
    "## 関心域の緯度経度情報の取得と地図ポリゴンの作成"
   ]
  },
  {
   "cell_type": "markdown",
   "metadata": {},
   "source": [
    "海外の関心域の緯度・経度情報を取得するために，米国キーン州立大学の以下のWEBアプリケーションを利用します．"
   ]
  },
  {
   "cell_type": "markdown",
   "metadata": {},
   "source": [
    "関心域（四隅）を右クリックで指定し，ポリゴンを作成します．枠を作成したあと，”Close Shape”をクリックし形を整えます．"
   ]
  },
  {
   "cell_type": "markdown",
   "metadata": {},
   "source": [
    "関心域を新たに取得する場合は，”Reset”をクリックしてポリゴンを消去する．\n",
    "\n",
    "注意：基本的に画像を拡大後，左回りで関心域（例えば，東京など）を検索し，緯度・経度を取得しています．右回りで探したときは，経度情報が逆転しますのでご注意ください．"
   ]
  },
  {
   "cell_type": "code",
   "execution_count": 4,
   "metadata": {},
   "outputs": [
    {
     "name": "stderr",
     "output_type": "stream",
     "text": [
      "/opt/conda/lib/python3.7/site-packages/IPython/core/display.py:694: UserWarning: Consider using IPython.display.IFrame instead\n",
      "  warnings.warn(\"Consider using IPython.display.IFrame instead\")\n"
     ]
    },
    {
     "data": {
      "text/html": [
       "<iframe width=\"960\" height=\"480\" src=\"https://www.keene.edu/campus/maps/tool/\" frameborder=\"0\"></iframe>"
      ],
      "text/plain": [
       "<IPython.core.display.HTML object>"
      ]
     },
     "execution_count": 4,
     "metadata": {},
     "output_type": "execute_result"
    }
   ],
   "source": [
    "#関心領域のポリゴン情報の取得．\n",
    "from IPython.display import HTML\n",
    "HTML(r'<iframe width=\"960\" height=\"480\" src=\"https://www.keene.edu/campus/maps/tool/\" frameborder=\"0\"></iframe>')"
   ]
  },
  {
   "cell_type": "markdown",
   "metadata": {},
   "source": [
    "作成したポリゴンの緯度・経度情報をコピーし，以下に貼り付けます．"
   ]
  },
  {
   "cell_type": "code",
   "execution_count": 5,
   "metadata": {},
   "outputs": [],
   "source": [
    "#上記にて取得した地理情報をコピペ．\n",
    "AREA =  [\n",
    "         [\n",
    "        -210.4512048,\n",
    "        -35.2522692\n",
    "      ],\n",
    "      [\n",
    "        -210.4512048,\n",
    "        -35.2477833\n",
    "      ],\n",
    "      [\n",
    "        -210.4525244,\n",
    "        -35.8537092\n",
    "      ],\n",
    "      [\n",
    "        -209.5915246,\n",
    "        -35.8444562\n",
    "      ],\n",
    "      [\n",
    "        -209.5799482,\n",
    "        -35.2564395\n",
    "      ],\n",
    "      [\n",
    "        -210.4512048,\n",
    "        -35.2522692\n",
    "      ]\n",
    "    ]"
   ]
  },
  {
   "cell_type": "markdown",
   "metadata": {},
   "source": [
    "経度情報が３６０°異なるため（左回り検索の場合），以下の処理で標準に修正します．"
   ]
  },
  {
   "cell_type": "code",
   "execution_count": 6,
   "metadata": {},
   "outputs": [],
   "source": [
    "for i in range(len(AREA)):\n",
    "    AREA[i][0] = AREA[i][0] +360"
   ]
  },
  {
   "cell_type": "markdown",
   "metadata": {},
   "source": [
    "関心域の地理情報ポリゴンの作成"
   ]
  },
  {
   "cell_type": "code",
   "execution_count": 7,
   "metadata": {},
   "outputs": [],
   "source": [
    "from geojson import Polygon\n",
    "\n",
    "# no hole within polygon\n",
    "m=Polygon([AREA]) "
   ]
  },
  {
   "cell_type": "markdown",
   "metadata": {},
   "source": [
    "今後使用する任意のファイル名をセットする．"
   ]
  },
  {
   "cell_type": "code",
   "execution_count": 8,
   "metadata": {},
   "outputs": [],
   "source": [
    "object_name = 'Australia_wildfire_new3'"
   ]
  },
  {
   "cell_type": "code",
   "execution_count": 9,
   "metadata": {},
   "outputs": [],
   "source": [
    "import json\n",
    "with open(str(object_name) +'.geojson', 'w') as f:\n",
    "    json.dump(m, f)"
   ]
  },
  {
   "cell_type": "code",
   "execution_count": 10,
   "metadata": {},
   "outputs": [],
   "source": [
    "footprint_geojson = geojson_to_wkt(read_geojson(str(object_name) +'.geojson'))"
   ]
  },
  {
   "cell_type": "markdown",
   "metadata": {},
   "source": [
    "foliumの地図閲覧機能を用いて関心域を確認する．"
   ]
  },
  {
   "cell_type": "code",
   "execution_count": 11,
   "metadata": {},
   "outputs": [
    {
     "data": {
      "text/html": [
       "<div style=\"width:100%;\"><div style=\"position:relative;width:100%;height:0;padding-bottom:60%;\"><iframe src=\"data:text/html;charset=utf-8;base64,PCFET0NUWVBFIGh0bWw+CjxoZWFkPiAgICAKICAgIDxtZXRhIGh0dHAtZXF1aXY9ImNvbnRlbnQtdHlwZSIgY29udGVudD0idGV4dC9odG1sOyBjaGFyc2V0PVVURi04IiAvPgogICAgCiAgICAgICAgPHNjcmlwdD4KICAgICAgICAgICAgTF9OT19UT1VDSCA9IGZhbHNlOwogICAgICAgICAgICBMX0RJU0FCTEVfM0QgPSBmYWxzZTsKICAgICAgICA8L3NjcmlwdD4KICAgIAogICAgPHNjcmlwdCBzcmM9Imh0dHBzOi8vY2RuLmpzZGVsaXZyLm5ldC9ucG0vbGVhZmxldEAxLjUuMS9kaXN0L2xlYWZsZXQuanMiPjwvc2NyaXB0PgogICAgPHNjcmlwdCBzcmM9Imh0dHBzOi8vY29kZS5qcXVlcnkuY29tL2pxdWVyeS0xLjEyLjQubWluLmpzIj48L3NjcmlwdD4KICAgIDxzY3JpcHQgc3JjPSJodHRwczovL21heGNkbi5ib290c3RyYXBjZG4uY29tL2Jvb3RzdHJhcC8zLjIuMC9qcy9ib290c3RyYXAubWluLmpzIj48L3NjcmlwdD4KICAgIDxzY3JpcHQgc3JjPSJodHRwczovL2NkbmpzLmNsb3VkZmxhcmUuY29tL2FqYXgvbGlicy9MZWFmbGV0LmF3ZXNvbWUtbWFya2Vycy8yLjAuMi9sZWFmbGV0LmF3ZXNvbWUtbWFya2Vycy5qcyI+PC9zY3JpcHQ+CiAgICA8bGluayByZWw9InN0eWxlc2hlZXQiIGhyZWY9Imh0dHBzOi8vY2RuLmpzZGVsaXZyLm5ldC9ucG0vbGVhZmxldEAxLjUuMS9kaXN0L2xlYWZsZXQuY3NzIi8+CiAgICA8bGluayByZWw9InN0eWxlc2hlZXQiIGhyZWY9Imh0dHBzOi8vbWF4Y2RuLmJvb3RzdHJhcGNkbi5jb20vYm9vdHN0cmFwLzMuMi4wL2Nzcy9ib290c3RyYXAubWluLmNzcyIvPgogICAgPGxpbmsgcmVsPSJzdHlsZXNoZWV0IiBocmVmPSJodHRwczovL21heGNkbi5ib290c3RyYXBjZG4uY29tL2Jvb3RzdHJhcC8zLjIuMC9jc3MvYm9vdHN0cmFwLXRoZW1lLm1pbi5jc3MiLz4KICAgIDxsaW5rIHJlbD0ic3R5bGVzaGVldCIgaHJlZj0iaHR0cHM6Ly9tYXhjZG4uYm9vdHN0cmFwY2RuLmNvbS9mb250LWF3ZXNvbWUvNC42LjMvY3NzL2ZvbnQtYXdlc29tZS5taW4uY3NzIi8+CiAgICA8bGluayByZWw9InN0eWxlc2hlZXQiIGhyZWY9Imh0dHBzOi8vY2RuanMuY2xvdWRmbGFyZS5jb20vYWpheC9saWJzL0xlYWZsZXQuYXdlc29tZS1tYXJrZXJzLzIuMC4yL2xlYWZsZXQuYXdlc29tZS1tYXJrZXJzLmNzcyIvPgogICAgPGxpbmsgcmVsPSJzdHlsZXNoZWV0IiBocmVmPSJodHRwczovL3Jhd2Nkbi5naXRoYWNrLmNvbS9weXRob24tdmlzdWFsaXphdGlvbi9mb2xpdW0vbWFzdGVyL2ZvbGl1bS90ZW1wbGF0ZXMvbGVhZmxldC5hd2Vzb21lLnJvdGF0ZS5jc3MiLz4KICAgIDxzdHlsZT5odG1sLCBib2R5IHt3aWR0aDogMTAwJTtoZWlnaHQ6IDEwMCU7bWFyZ2luOiAwO3BhZGRpbmc6IDA7fTwvc3R5bGU+CiAgICA8c3R5bGU+I21hcCB7cG9zaXRpb246YWJzb2x1dGU7dG9wOjA7Ym90dG9tOjA7cmlnaHQ6MDtsZWZ0OjA7fTwvc3R5bGU+CiAgICAKICAgICAgICAgICAgPG1ldGEgbmFtZT0idmlld3BvcnQiIGNvbnRlbnQ9IndpZHRoPWRldmljZS13aWR0aCwKICAgICAgICAgICAgICAgIGluaXRpYWwtc2NhbGU9MS4wLCBtYXhpbXVtLXNjYWxlPTEuMCwgdXNlci1zY2FsYWJsZT1ubyIgLz4KICAgICAgICAgICAgPHN0eWxlPgogICAgICAgICAgICAgICAgI21hcF9iZDk2ZDBlNTJhNTE0MzIwODY1OGYxMzJhNGFmZGQyMyB7CiAgICAgICAgICAgICAgICAgICAgcG9zaXRpb246IHJlbGF0aXZlOwogICAgICAgICAgICAgICAgICAgIHdpZHRoOiAxMDAuMCU7CiAgICAgICAgICAgICAgICAgICAgaGVpZ2h0OiAxMDAuMCU7CiAgICAgICAgICAgICAgICAgICAgbGVmdDogMC4wJTsKICAgICAgICAgICAgICAgICAgICB0b3A6IDAuMCU7CiAgICAgICAgICAgICAgICB9CiAgICAgICAgICAgIDwvc3R5bGU+CiAgICAgICAgCjwvaGVhZD4KPGJvZHk+ICAgIAogICAgCiAgICAgICAgICAgIDxkaXYgY2xhc3M9ImZvbGl1bS1tYXAiIGlkPSJtYXBfYmQ5NmQwZTUyYTUxNDMyMDg2NThmMTMyYTRhZmRkMjMiID48L2Rpdj4KICAgICAgICAKPC9ib2R5Pgo8c2NyaXB0PiAgICAKICAgIAogICAgICAgICAgICB2YXIgbWFwX2JkOTZkMGU1MmE1MTQzMjA4NjU4ZjEzMmE0YWZkZDIzID0gTC5tYXAoCiAgICAgICAgICAgICAgICAibWFwX2JkOTZkMGU1MmE1MTQzMjA4NjU4ZjEzMmE0YWZkZDIzIiwKICAgICAgICAgICAgICAgIHsKICAgICAgICAgICAgICAgICAgICBjZW50ZXI6IFstMzUuMjUyMjY5MiwgMTQ5LjU0ODc5NTJdLAogICAgICAgICAgICAgICAgICAgIGNyczogTC5DUlMuRVBTRzM4NTcsCiAgICAgICAgICAgICAgICAgICAgem9vbTogMTAsCiAgICAgICAgICAgICAgICAgICAgem9vbUNvbnRyb2w6IHRydWUsCiAgICAgICAgICAgICAgICAgICAgcHJlZmVyQ2FudmFzOiBmYWxzZSwKICAgICAgICAgICAgICAgIH0KICAgICAgICAgICAgKTsKCiAgICAgICAgICAgIAoKICAgICAgICAKICAgIAogICAgICAgICAgICB2YXIgdGlsZV9sYXllcl81MGNjOGE1MjMxODI0NGU1OWZhNjk3MWQ2NGE2YWU4YiA9IEwudGlsZUxheWVyKAogICAgICAgICAgICAgICAgImh0dHBzOi8ve3N9LnRpbGUub3BlbnN0cmVldG1hcC5vcmcve3p9L3t4fS97eX0ucG5nIiwKICAgICAgICAgICAgICAgIHsiYXR0cmlidXRpb24iOiAiRGF0YSBieSBcdTAwMjZjb3B5OyBcdTAwM2NhIGhyZWY9XCJodHRwOi8vb3BlbnN0cmVldG1hcC5vcmdcIlx1MDAzZU9wZW5TdHJlZXRNYXBcdTAwM2MvYVx1MDAzZSwgdW5kZXIgXHUwMDNjYSBocmVmPVwiaHR0cDovL3d3dy5vcGVuc3RyZWV0bWFwLm9yZy9jb3B5cmlnaHRcIlx1MDAzZU9EYkxcdTAwM2MvYVx1MDAzZS4iLCAiZGV0ZWN0UmV0aW5hIjogZmFsc2UsICJtYXhOYXRpdmVab29tIjogMTgsICJtYXhab29tIjogMTgsICJtaW5ab29tIjogMCwgIm5vV3JhcCI6IGZhbHNlLCAib3BhY2l0eSI6IDEsICJzdWJkb21haW5zIjogImFiYyIsICJ0bXMiOiBmYWxzZX0KICAgICAgICAgICAgKS5hZGRUbyhtYXBfYmQ5NmQwZTUyYTUxNDMyMDg2NThmMTMyYTRhZmRkMjMpOwogICAgICAgIAogICAgCiAgICAgICAgZnVuY3Rpb24gZ2VvX2pzb25fZmI0MzllNDZiN2MzNDYzMGJiZDc1Yjk4MDE0MDI3M2Ffb25FYWNoRmVhdHVyZShmZWF0dXJlLCBsYXllcikgewogICAgICAgICAgICBsYXllci5vbih7CiAgICAgICAgICAgICAgICBjbGljazogZnVuY3Rpb24oZSkgewogICAgICAgICAgICAgICAgICAgIG1hcF9iZDk2ZDBlNTJhNTE0MzIwODY1OGYxMzJhNGFmZGQyMy5maXRCb3VuZHMoZS50YXJnZXQuZ2V0Qm91bmRzKCkpOwogICAgICAgICAgICAgICAgfQogICAgICAgICAgICB9KTsKICAgICAgICB9OwogICAgICAgIHZhciBnZW9fanNvbl9mYjQzOWU0NmI3YzM0NjMwYmJkNzViOTgwMTQwMjczYSA9IEwuZ2VvSnNvbihudWxsLCB7CiAgICAgICAgICAgICAgICBvbkVhY2hGZWF0dXJlOiBnZW9fanNvbl9mYjQzOWU0NmI3YzM0NjMwYmJkNzViOTgwMTQwMjczYV9vbkVhY2hGZWF0dXJlLAogICAgICAgICAgICAKICAgICAgICB9KTsKICAgICAgICBmdW5jdGlvbiBnZW9fanNvbl9mYjQzOWU0NmI3YzM0NjMwYmJkNzViOTgwMTQwMjczYV9hZGQgKGRhdGEpIHsKICAgICAgICAgICAgZ2VvX2pzb25fZmI0MzllNDZiN2MzNDYzMGJiZDc1Yjk4MDE0MDI3M2EuYWRkRGF0YShkYXRhKQogICAgICAgICAgICAgICAgLmFkZFRvKG1hcF9iZDk2ZDBlNTJhNTE0MzIwODY1OGYxMzJhNGFmZGQyMyk7CiAgICAgICAgfQogICAgICAgICAgICBnZW9fanNvbl9mYjQzOWU0NmI3YzM0NjMwYmJkNzViOTgwMTQwMjczYV9hZGQoeyJjb29yZGluYXRlcyI6IFtbWzE0OS41NDg3OTUsIC0zNS4yNTIyNjldLCBbMTQ5LjU0ODc5NSwgLTM1LjI0Nzc4M10sIFsxNDkuNTQ3NDc2LCAtMzUuODUzNzA5XSwgWzE1MC40MDg0NzUsIC0zNS44NDQ0NTZdLCBbMTUwLjQyMDA1MiwgLTM1LjI1NjQzOV0sIFsxNDkuNTQ4Nzk1LCAtMzUuMjUyMjY5XV1dLCAidHlwZSI6ICJQb2x5Z29uIn0pOwogICAgICAgIAo8L3NjcmlwdD4=\" style=\"position:absolute;width:100%;height:100%;left:0;top:0;border:none !important;\" allowfullscreen webkitallowfullscreen mozallowfullscreen></iframe></div></div>"
      ],
      "text/plain": [
       "<folium.folium.Map at 0x7f0533f9e630>"
      ]
     },
     "execution_count": 11,
     "metadata": {},
     "output_type": "execute_result"
    }
   ],
   "source": [
    "m = folium.Map([(AREA[0][1]+AREA[len(AREA)-1][1])/2,(AREA[0][0]+AREA[len(AREA)-1][0])/2], zoom_start=10)\n",
    "\n",
    "folium.GeoJson(str(object_name) +'.geojson').add_to(m)\n",
    "m"
   ]
  },
  {
   "cell_type": "markdown",
   "metadata": {},
   "source": [
    "## フォントファイルのダウンロード及び設定準備"
   ]
  },
  {
   "cell_type": "markdown",
   "metadata": {},
   "source": [
    "作成した画像ファイルに，衛星画像の取得日やクレジットを記載します．このとき，フォントファイルがない場合はダウンロードし準備する必要があります。"
   ]
  },
  {
   "cell_type": "markdown",
   "metadata": {},
   "source": [
    "いくつか無料でフォントを提供されていますが，今回は以下のサイトよりダウンロードします．\n",
    "\n",
    "[M+ FONTS](http://mplus-fonts.osdn.jp/about-en.html#download-1)"
   ]
  },
  {
   "cell_type": "code",
   "execution_count": null,
   "metadata": {},
   "outputs": [],
   "source": [
    "!wget https://osdn.net/dl/mplus-fonts/mplus-TESTFLIGHT-063a.tar.xz"
   ]
  },
  {
   "cell_type": "code",
   "execution_count": 14,
   "metadata": {},
   "outputs": [],
   "source": [
    "!xz -dc mplus-TESTFLIGHT-*.tar.xz | tar xf -"
   ]
  },
  {
   "cell_type": "code",
   "execution_count": 17,
   "metadata": {},
   "outputs": [],
   "source": [
    "fontfile = \"./mplus-TESTFLIGHT-063a/mplus-1c-bold.ttf\" #downloadしたfontファイルの保存先を指定します．"
   ]
  },
  {
   "cell_type": "markdown",
   "metadata": {},
   "source": [
    "## Sentinel-2の衛星画像取得，およびGIFアニメーション作成の関数の準備．"
   ]
  },
  {
   "cell_type": "markdown",
   "metadata": {},
   "source": [
    "コペルニクスハブのアカウントは以下のサイトなどを参考に取得してください．\n",
    "\n",
    "[無料で最新の衛星画像を入手する方法．](https://qiita.com/nigo1973/items/9bb6a11caac8e3e1e850)"
   ]
  },
  {
   "cell_type": "code",
   "execution_count": 18,
   "metadata": {
    "colab": {},
    "colab_type": "code",
    "id": "Rs5TUxLbBCEr"
   },
   "outputs": [],
   "source": [
    "user = '********' #ご自身のCopernicus hubのアカウント情報\n",
    "password = '********' #ご自身のCopernicus hubのアカウント情報\n",
    "\n",
    "api = SentinelAPI(user, password, 'https://scihub.copernicus.eu/dhus')"
   ]
  },
  {
   "cell_type": "markdown",
   "metadata": {},
   "source": [
    "一般的な人工衛星の観測画像（True Color）とは異なり，火災検知を見やすくするためにSentinel-2の赤外波長の画像（B12, B11, B8A）を使用します．"
   ]
  },
  {
   "cell_type": "code",
   "execution_count": 20,
   "metadata": {},
   "outputs": [],
   "source": [
    "def Sentinel2_get_init(i):\n",
    "    products = api.query(footprint_geojson,\n",
    "                     date = (Begin_date, End_date), #画像取得月の画像取得\n",
    "                     platformname = 'Sentinel-2',\n",
    "                     processinglevel = 'Level-2A', #Leve-1C\n",
    "                     cloudcoverpercentage = (0,100)) #被雲率（０％〜５０％）\n",
    "    \n",
    "    products_gdf = api.to_geodataframe(products)\n",
    "    \n",
    "    #画像取得月の被雲率の小さい画像からソートする．\n",
    "    products_gdf_sorted = products_gdf.sort_values(['cloudcoverpercentage'], ascending=[True])\n",
    "    title = products_gdf_sorted.iloc[i][\"title\"]\n",
    "    print(str(title))\n",
    "    \n",
    "    uuid = products_gdf_sorted.iloc[i][\"uuid\"]\n",
    "    product_title = products_gdf_sorted.iloc[i][\"title\"]\n",
    "    \n",
    "    #画像の観測日を確認．\n",
    "    date = products_gdf_sorted.iloc[i][\"ingestiondate\"].strftime('%Y-%m-%d')\n",
    "    print(date)\n",
    "    \n",
    "    #Sentinel-2 data download\n",
    "    api.download(uuid)\n",
    "    file_name = str(product_title) +'.zip'\n",
    "    \n",
    "    \n",
    "    #ダウロードファイルの解凍．\n",
    "    with zipfile.ZipFile(file_name) as zf:\n",
    "        zf.extractall()\n",
    "    \n",
    "    #フォルダの画像ファイルのアドレスを取得．\n",
    "    path = str(product_title) + '.SAFE/GRANULE'\n",
    "    files = os.listdir(path)\n",
    "    pathA = str(product_title) + '.SAFE/GRANULE/' + str(files[0])\n",
    "    files2 = os.listdir(pathA)\n",
    "    pathB = str(product_title) + '.SAFE/GRANULE/' + str(files[0]) +'/' + str(files2[1]) +'/R20m'\n",
    "    files3 = os.listdir(pathB)\n",
    "    \n",
    "    \n",
    "    path_b12 = str(product_title) + '.SAFE/GRANULE/' + str(files[0]) +'/' + str(files2[1]) +'/R20m/' +str(files3[0][0:23] +'B12_20m.jp2')\n",
    "    path_b11 = str(product_title) + '.SAFE/GRANULE/' + str(files[0]) +'/' + str(files2[1]) +'/R20m/' +str(files3[0][0:23] +'B11_20m.jp2')\n",
    "    path_b8 = str(product_title) + '.SAFE/GRANULE/' + str(files[0]) +'/' + str(files2[1]) +'/R20m/' +str(files3[0][0:23] +'B8A_20m.jp2')\n",
    "    \n",
    "    # Band４，３，２をR,G,Bとして開く．\n",
    "    b8 = rio.open(path_b8)\n",
    "    b12 = rio.open(path_b12)\n",
    "    b11 = rio.open(path_b11)\n",
    "    \n",
    "    #RGBカラー合成（GeoTiffファイルの出力）\n",
    "    with rio.open(str(object_name) +'.tiff','w',driver='Gtiff', width=b12.width, height=b12.height, \n",
    "              count=3,crs=b12.crs,transform=b12.transform, dtype=b12.dtypes[0]) as rgb:\n",
    "        rgb.write(b12.read(1),1) \n",
    "        rgb.write(b11.read(1),2) \n",
    "        rgb.write(b8.read(1),3) \n",
    "        rgb.close()\n",
    "    \n",
    "    #ポリゴン情報の取得．\n",
    "    nReserve_geo = gpd.read_file(str(object_name) +'.geojson')\n",
    "    \n",
    "    #取得画像のEPSGを取得\n",
    "    epsg = b12.crs\n",
    "    \n",
    "    nReserve_proj = nReserve_geo.to_crs({'init': str(epsg)})\n",
    "    \n",
    "    #マスクTiffファイルの一時置き場\n",
    "    os.makedirs('./Image_tiff', exist_ok=True)\n",
    "\n",
    "    #カラー合成画像より関心域を抽出．\n",
    "    with rio.open(str(object_name) +'.tiff') as src:\n",
    "        out_image, out_transform = rio.mask.mask(src, nReserve_proj.geometry,crop=True)\n",
    "        out_meta = src.meta.copy()\n",
    "        out_meta.update({\"driver\": \"GTiff\",\n",
    "                     \"height\": out_image.shape[1],\n",
    "                     \"width\": out_image.shape[2],\n",
    "                     \"transform\": out_transform})\n",
    "    \n",
    "    with rasterio.open('./Image_tiff/' +'Masked_' +str(object_name) +'.tif', \"w\", **out_meta) as dest:\n",
    "        dest.write(out_image)\n",
    "    \n",
    "    #抽出画像のjpeg処理．\n",
    "    scale = '-scale 0 255 0 15'\n",
    "    options_list = [\n",
    "        '-ot Byte',\n",
    "        '-of JPEG',\n",
    "        scale\n",
    "    ] \n",
    "    \n",
    "    options_string = \" \".join(options_list)\n",
    "    \n",
    "    #ディレクトリの作成 \n",
    "    os.makedirs('./Image_jpeg_'+str(object_name), exist_ok=True)\n",
    "    \n",
    "    #jpeg画像の保存．\n",
    "    gdal.Translate('./Image_jpeg_'+str(object_name) +'/' + str(date) + 'Masked_' +str(object_name) +'.jpg',\n",
    "                   './Image_tiff/Masked_' +str(object_name) +'.tif',\n",
    "                   options=options_string)\n",
    "    \n",
    "    #画像への撮像日を記載\n",
    "    img = Image.open('./Image_jpeg_'+str(object_name) +'/' + str(date) + 'Masked_' +str(object_name) +'.jpg')\n",
    "\n",
    "\n",
    "    x = img.size[0]/100 #日付の記載位置の設定\n",
    "    y = img.size[1]/100 #日付の記載位置の設定\n",
    "    fs = img.size[0]/50 #日付のフォントサイズの設定\n",
    "    fs1 = int(fs)\n",
    "    obj_draw = ImageDraw.Draw(img)\n",
    "    #obj_font = ImageFont.truetype(\"./font/mplus-1c-bold.ttf\", fs1)\n",
    "    obj_font = ImageFont.truetype(fontfile, fs1)\n",
    "    obj_draw.text((x, y), str(date), fill=(255, 255, 255), font=obj_font)\n",
    "    obj_draw.text((img.size[0]/2, img.size[1]-y - img.size[1]/20 ), 'produced from ESA remote sensing data', fill=(255, 255, 255), font=obj_font)\n",
    "    \n",
    "\n",
    "    img.save('./Image_jpeg_'+str(object_name) +'/' + str(date) + 'Masked_' +str(object_name) +'.jpg')\n",
    "    \n",
    "    #Copernicus hubからのダウンロードファイル，および解凍フォルダの削除\n",
    "    shutil.rmtree( str(product_title) + '.SAFE')\n",
    "    os.remove(str(product_title) +'.zip')\n",
    "    \n",
    "    return"
   ]
  },
  {
   "cell_type": "code",
   "execution_count": 21,
   "metadata": {},
   "outputs": [],
   "source": [
    "def Sentinel2_get():\n",
    "    products = api.query(footprint_geojson,\n",
    "                     date = (begin, end), #取得希望期間の入力\n",
    "                     platformname = 'Sentinel-2',\n",
    "                     processinglevel = 'Level-2A', #Leve-1C\n",
    "                     cloudcoverpercentage = (0,100)) #被雲率（０％〜５０％）\n",
    "    \n",
    "    products_gdf = api.to_geodataframe(products)\n",
    "    products_gdf_sorted = products_gdf.sort_values(['cloudcoverpercentage'], ascending=[True])\n",
    "    \n",
    "    #同一シーンの画像を取得するため，placenumberを固定する．\n",
    "    products_gdf_sorted = products_gdf_sorted[products_gdf_sorted[\"title\"].str.contains(placenumber)]\n",
    "    title = products_gdf_sorted.iloc[0][\"title\"]\n",
    "    print(str(title))\n",
    "    \n",
    "    uuid = products_gdf_sorted.iloc[0][\"uuid\"]\n",
    "    product_title = products_gdf_sorted.iloc[0][\"title\"]\n",
    "    \n",
    "  \n",
    "    date = products_gdf_sorted.iloc[0][\"ingestiondate\"].strftime('%Y%m%d')\n",
    "    date1 = products_gdf_sorted.iloc[0][\"ingestiondate\"].strftime('%Y-%m-%d')\n",
    "    print(date)\n",
    "    \n",
    "    api.download(uuid)\n",
    "    file_name = str(product_title) +'.zip'\n",
    "    \n",
    "    with zipfile.ZipFile(file_name) as zf:\n",
    "        zf.extractall()\n",
    "    \n",
    "    path = str(product_title) + '.SAFE/GRANULE'\n",
    "    files = os.listdir(path)\n",
    "    pathA = str(product_title) + '.SAFE/GRANULE/' + str(files[0])\n",
    "    files2 = os.listdir(pathA)\n",
    "    pathB = str(product_title) + '.SAFE/GRANULE/' + str(files[0]) +'/' + str(files2[1]) +'/R20m'\n",
    "    files3 = os.listdir(pathB)\n",
    "    \n",
    "    \n",
    "    path_b12 = str(product_title) + '.SAFE/GRANULE/' + str(files[0]) +'/' + str(files2[1]) +'/R20m/' +str(files3[0][0:23] +'B12_20m.jp2')\n",
    "    path_b11 = str(product_title) + '.SAFE/GRANULE/' + str(files[0]) +'/' + str(files2[1]) +'/R20m/' +str(files3[0][0:23] +'B11_20m.jp2')\n",
    "    path_b8 = str(product_title) + '.SAFE/GRANULE/' + str(files[0]) +'/' + str(files2[1]) +'/R20m/' +str(files3[0][0:23] +'B8A_20m.jp2')\n",
    "    \n",
    "    # Band４，３，２をR,G,Bとして開く．\n",
    "    b8 = rio.open(path_b8)\n",
    "    b12 = rio.open(path_b12)\n",
    "    b11 = rio.open(path_b11)\n",
    "    \n",
    "    #RGBカラー合成（GeoTiffファイルの出力）\n",
    "    with rio.open(str(object_name) +'.tiff','w',driver='Gtiff', width=b12.width, height=b12.height, \n",
    "              count=3,crs=b12.crs,transform=b12.transform, dtype=b12.dtypes[0]) as rgb:\n",
    "        rgb.write(b12.read(1),1) \n",
    "        rgb.write(b11.read(1),2) \n",
    "        rgb.write(b8.read(1),3) \n",
    "        rgb.close()\n",
    "    \n",
    "    os.makedirs('./Image_tiff', exist_ok=True)\n",
    "    \n",
    "    nReserve_geo = gpd.read_file(str(object_name) +'.geojson')\n",
    "    epsg = b12.crs\n",
    "    \n",
    "    nReserve_proj = nReserve_geo.to_crs({'init': str(epsg)})\n",
    "\n",
    "    with rio.open(str(object_name) +'.tiff') as src:\n",
    "        out_image, out_transform = rio.mask.mask(src, nReserve_proj.geometry,crop=True)\n",
    "        out_meta = src.meta.copy()\n",
    "        out_meta.update({\"driver\": \"GTiff\",\n",
    "                     \"height\": out_image.shape[1],\n",
    "                     \"width\": out_image.shape[2],\n",
    "                     \"transform\": out_transform})\n",
    "    \n",
    "    with rasterio.open('./Image_tiff/' +'Masked_' +str(object_name) +'.tif', \"w\", **out_meta) as dest:\n",
    "        dest.write(out_image)\n",
    "    \n",
    "    from osgeo import gdal\n",
    "\n",
    "    scale = '-scale 0 255 0 15'\n",
    "    options_list = [\n",
    "        '-ot Byte',\n",
    "        '-of JPEG',\n",
    "        scale\n",
    "    ] \n",
    "    options_string = \" \".join(options_list)\n",
    "    \n",
    "    os.makedirs('./Image_jpeg_'+str(object_name), exist_ok=True)\n",
    "\n",
    "    gdal.Translate('./Image_jpeg_'+str(object_name) +'/' + str(date) + 'Masked_' +str(object_name) +'.jpg',\n",
    "                   './Image_tiff/Masked_' +str(object_name) +'.tif',\n",
    "                   options=options_string)\n",
    "    \n",
    "    #画像への撮像日の記載\n",
    "    img = Image.open('./Image_jpeg_'+str(object_name) +'/' + str(date) + 'Masked_' +str(object_name) +'.jpg')\n",
    "\n",
    "\n",
    "    x = img.size[0]/100 #日付の記載位置の設定\n",
    "    y = img.size[1]/100 #日付の記載位置の設定\n",
    "    fs = img.size[0]/50 #日付のフォントサイズの設定\n",
    "    fs1 = int(fs)\n",
    "    obj_draw = ImageDraw.Draw(img)\n",
    "    obj_font = ImageFont.truetype(fontfile, fs1)\n",
    "    obj_draw.text((x, y), str(date1), fill=(0, 0, 128), font=obj_font) #Red:(255, 0, 0), Blue:(0,0,255), Navy:(0,0,128),Yellow:(255,255,0), bluegreen:(0,128,128),Perple:(128,0,128)\n",
    "    obj_draw.text((img.size[0]/2, img.size[1]-y - img.size[1]/20 ), 'produced from ESA remote sensing data', fill=(0, 0, 128), font=obj_font)\n",
    "    img.save('./Image_jpeg_'+str(object_name) +'/' + str(date) + 'Masked_' +str(object_name) +'.jpg')\n",
    "\n",
    "    \n",
    "    #Copernicus hubからのダウンロードファイル，および解凍フォルダの削除\n",
    "    shutil.rmtree( str(product_title) + '.SAFE')\n",
    "    os.remove(str(product_title) +'.zip')\n",
    "    \n",
    "    return"
   ]
  },
  {
   "cell_type": "markdown",
   "metadata": {},
   "source": [
    "## 対象画像の確認"
   ]
  },
  {
   "cell_type": "markdown",
   "metadata": {},
   "source": [
    "ここでは，選択した画像が関心域を多く含むものかどうか，タイル画像番号を確認します．"
   ]
  },
  {
   "cell_type": "code",
   "execution_count": 22,
   "metadata": {},
   "outputs": [],
   "source": [
    "#L2Aデータ取得のため，２０１９年１月以降を開始日とすること．\n",
    "Begin_date = '20191201'\n",
    "End_date = Begin_date[:6] +'28'#１月間の観測画像より，関心域を多く含む画像のタイル番号を取得する．"
   ]
  },
  {
   "cell_type": "markdown",
   "metadata": {},
   "source": [
    "画像取得の開始月の画像を確認する． 被雲率の小さい画像から確認するため，デフォルトの引数は０とする．"
   ]
  },
  {
   "cell_type": "code",
   "execution_count": 24,
   "metadata": {},
   "outputs": [
    {
     "name": "stdout",
     "output_type": "stream",
     "text": [
      "S2B_MSIL2A_20191226T000239_N0213_R030_T55HGA_20191226T014948\n",
      "2019-12-26\n"
     ]
    },
    {
     "name": "stderr",
     "output_type": "stream",
     "text": [
      "Downloading: 100%|██████████| 1.09G/1.09G [01:40<00:00, 11.6MB/s]\n",
      "MD5 checksumming: 100%|██████████| 1.09G/1.09G [00:03<00:00, 333MB/s]\n"
     ]
    }
   ],
   "source": [
    "Sentinel2_get_init(4)"
   ]
  },
  {
   "cell_type": "markdown",
   "metadata": {},
   "source": [
    "上記の処理により作成されたjpeg画像（object_nameのjpeg画像のディレクトリに保存されている）を確認する．関心域を多く含む画像であればOK.端部のみや，関心域の画像が少ない場合は0を１に変更して，異なる衛星画像で同処理を行いjpeg画像を確認する．"
   ]
  },
  {
   "cell_type": "markdown",
   "metadata": {},
   "source": [
    "上記の画像で問題ければ，placenumber(例えば，S2A_MSIL2A_20191012T000241_N0213_R030\"_T56HKD_\"20191012T020312)をコピーし，以下のコードに貼り付ける．これにより，同じ位置の衛星画像のみが取得される．"
   ]
  },
  {
   "cell_type": "markdown",
   "metadata": {},
   "source": [
    "Sentinel-2の衛星画像のplacenumberに関する情報は以下を参考とする．\n",
    "\n",
    "[Sentinel-2 Product Types](https://sentinel.esa.int/web/sentinel/user-guides/sentinel-2-msi/product-types)"
   ]
  },
  {
   "cell_type": "markdown",
   "metadata": {},
   "source": [
    "注） エラー”SentinelAPIError: HTTP status 200 OK: Invalid query string. Check the parameters and format.”\n",
    "は関心域が大きく，複数シーンにまたぐときに発信される．関心域を小さくすることでエラーが回避される．"
   ]
  },
  {
   "cell_type": "markdown",
   "metadata": {},
   "source": [
    "## 関心域のGIFアニメーションの作成．"
   ]
  },
  {
   "cell_type": "code",
   "execution_count": 25,
   "metadata": {},
   "outputs": [],
   "source": [
    "placenumber = '_T55HGA_' #placenumberはT54SUE"
   ]
  },
  {
   "cell_type": "code",
   "execution_count": 26,
   "metadata": {},
   "outputs": [],
   "source": [
    "#L2Aデータ取得のため，２０１９年１月以降を開始日とすること．\n",
    "Begin_date = '20191201'\n",
    "End_date = '2020210'"
   ]
  },
  {
   "cell_type": "markdown",
   "metadata": {},
   "source": [
    "開始日と終了日の日差を算出．　Sentinel-2の再観測までの期間は５日間なのでデフォルトは５日とする．"
   ]
  },
  {
   "cell_type": "code",
   "execution_count": 27,
   "metadata": {},
   "outputs": [],
   "source": [
    "m = 5 # 5日間毎の画像を取得する．"
   ]
  },
  {
   "cell_type": "code",
   "execution_count": 28,
   "metadata": {},
   "outputs": [],
   "source": [
    "#開始日と終了日の日差の数を求める．\n",
    "begin_data_s = datetime.datetime.strptime(Begin_date, '%Y%m%d') \n",
    "end_data_s = datetime.datetime.strptime(End_date, '%Y%m%d')\n",
    "d_day = end_data_s - begin_data_s\n",
    "n =d_day.days//m"
   ]
  },
  {
   "cell_type": "code",
   "execution_count": null,
   "metadata": {},
   "outputs": [],
   "source": [
    "for i in range(n):\n",
    "    if i < 1:\n",
    "        Begin_date = begin_data_s\n",
    "        End_date = begin_data_s + datetime.timedelta(days=m)\n",
    "        begin= Begin_date.strftime('%Y%m%d')\n",
    "        end = End_date.strftime('%Y%m%d')\n",
    "    else:\n",
    "        Begin_date = End_date\n",
    "        End_date = Begin_date + datetime.timedelta(days=m)\n",
    "        begin= Begin_date.strftime('%Y%m%d')\n",
    "        end = End_date.strftime('%Y%m%d')\n",
    "    \n",
    "    Sentinel2_get()\n"
   ]
  },
  {
   "cell_type": "markdown",
   "metadata": {},
   "source": [
    "設定した日毎の衛星画像の取得，および関心域のjpeg画像を以下のコードにて作成する．"
   ]
  },
  {
   "cell_type": "markdown",
   "metadata": {},
   "source": [
    "jpeg画像の古い観測画像から順番にGifアニメーションを作成する．"
   ]
  },
  {
   "cell_type": "code",
   "execution_count": 30,
   "metadata": {},
   "outputs": [],
   "source": [
    "images =[]\n",
    "\n",
    "files = sorted(glob.glob('./Image_jpeg_'+str(object_name) +'/*.jpg'))\n",
    "images = list(map(lambda file: Image.open(file), files))\n",
    "\n",
    "images[0].save('./Image_jpeg_'+str(object_name) +'/' + str(object_name) + '.gif', save_all=True, append_images=images[1:], duration=1000, loop=0)"
   ]
  },
  {
   "cell_type": "markdown",
   "metadata": {},
   "source": [
    "## まとめ"
   ]
  },
  {
   "cell_type": "markdown",
   "metadata": {},
   "source": [
    "Sentinel APIを用いて，Sentinel-2の撮像画像のダウンロード，および関心域の赤外波長を用いた火災系のjepg画像のGIFアニメーションの作成例を紹介しました．\n",
    "このコードを参考に，みなさんの衛星画像の利用の理解につながり，より多くの方に関心をもっていただければ幸いです．"
   ]
  }
 ],
 "metadata": {
  "colab": {
   "collapsed_sections": [],
   "include_colab_link": true,
   "name": "RS-Python.ipynb",
   "provenance": [],
   "version": "0.3.2"
  },
  "kernelspec": {
   "display_name": "Python 3",
   "language": "python",
   "name": "python3"
  },
  "language_info": {
   "codemirror_mode": {
    "name": "ipython",
    "version": 3
   },
   "file_extension": ".py",
   "mimetype": "text/x-python",
   "name": "python",
   "nbconvert_exporter": "python",
   "pygments_lexer": "ipython3",
   "version": "3.7.3"
  }
 },
 "nbformat": 4,
 "nbformat_minor": 4
}
